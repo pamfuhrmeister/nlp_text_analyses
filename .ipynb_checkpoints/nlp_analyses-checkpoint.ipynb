{
 "cells": [
  {
   "cell_type": "markdown",
   "id": "0d86ea4d-b9d8-4ff5-b8d7-142ef401d653",
   "metadata": {},
   "source": [
    "# Using NLP to compute nean length utterance and number of filled pauses in a speaking task"
   ]
  },
  {
   "cell_type": "markdown",
   "id": "da953bc0-5559-4a0d-85e7-d7d90bfcfb00",
   "metadata": {},
   "source": [
    "In this notebook, we provide code for two analyses in a speaking experiment. In this experiment, participants were asked to respond to simple prompts while doing a simulated driving task (i.e., driving a car) and also without driving. We compared the mean length utterance (number of morphemes per utterance, utterance=words between pauses, Kemper et al., 2003) between the conditions (easy driving, hard driving, and speaking only) to test whether participants uttered less complex sentences in the cognitively more challenging conditions. We additionally tested whether the number of filled pauses differed among the conditions. We predicted that participants would produce more filled pauses in the more challenging driving conditions."
   ]
  },
  {
   "cell_type": "markdown",
   "id": "03eb1e1d-fd30-4a28-8795-d69680dc5acc",
   "metadata": {},
   "source": [
    "## Mean length utterance"
   ]
  },
  {
   "cell_type": "code",
   "execution_count": 3,
   "id": "66471d53-33cf-420b-bfa7-f803891405ec",
   "metadata": {},
   "outputs": [],
   "source": [
    "import spacy\n",
    "import de_dep_news_trf\n",
    "from spacy.matcher import Matcher\n",
    "from spacy_syllables import SpacySyllables\n",
    "import glob\n",
    "from praatio import textgrid\n",
    "import pandas as pd\n",
    "import seaborn as sns\n",
    "import matplotlib.pyplot as plt\n",
    "from statsmodels.formula.api import ols\n",
    "from patsy.contrasts import Helmert\n",
    "from patsy.contrasts import Treatment"
   ]
  },
  {
   "cell_type": "code",
   "execution_count": 4,
   "id": "2fcecc07-dcb4-4a8b-9f68-5aff53d77eeb",
   "metadata": {},
   "outputs": [
    {
     "data": {
      "text/plain": [
       "<spacy_syllables.SpacySyllables at 0x12076f2b0>"
      ]
     },
     "execution_count": 4,
     "metadata": {},
     "output_type": "execute_result"
    }
   ],
   "source": [
    "# Modell laden\n",
    "nlp = spacy.load(\"de_core_news_sm\")\n",
    "#nlp = spacy.load(\"de_dep_news_trf\")\n",
    "#nlp = de_dep_news_trf.load()\n",
    "syllables = SpacySyllables(nlp, \"de\")\n",
    "nlp.add_pipe(\"syllables\", after=\"tagger\")"
   ]
  },
  {
   "cell_type": "code",
   "execution_count": 5,
   "id": "b3f8bfc7-8a8d-48e1-9cda-be569d926931",
   "metadata": {},
   "outputs": [],
   "source": [
    "# leere Liste erstellen und TextGrid-Dateien in der Liste speichern\n",
    "tg_files = []"
   ]
  },
  {
   "cell_type": "code",
   "execution_count": 6,
   "id": "5f919c1f-a10e-4643-bb45-69d530178b83",
   "metadata": {},
   "outputs": [],
   "source": [
    "# TextGrid-Dateien zur Liste tg_dateien hinzufügen\n",
    "for file in glob.glob(\"*.TextGrid\"):\n",
    "    tg_files.append(file)"
   ]
  },
  {
   "cell_type": "code",
   "execution_count": 7,
   "id": "b78ddc6d-bfdd-4ed7-a0e6-bc38e8d2538a",
   "metadata": {},
   "outputs": [
    {
     "data": {
      "text/plain": [
       "22"
      ]
     },
     "execution_count": 7,
     "metadata": {},
     "output_type": "execute_result"
    }
   ],
   "source": [
    "len(tg_files) # make sure we have the correct number of files"
   ]
  },
  {
   "cell_type": "code",
   "execution_count": 8,
   "id": "2e8b34e8-f535-40cd-8a5e-42658afbfd51",
   "metadata": {},
   "outputs": [],
   "source": [
    "def compute_mlu(file):\n",
    "    \"\"\"\n",
    "    This function computes the mean length utterance for each file by means of the following steps:\n",
    "    1. Splits the string of the file name and saves the first two elements, which are the participant number and condition\n",
    "    2. Reads the textgrid file\n",
    "    3. Creates an object that consists of the participant tier of the textgrid (the text the participant uttered)\n",
    "    4. Creates a list of all text from the participant's speech task\n",
    "    5. Removes NA and xxx (NA is when the experimenter was talking; xxx are pauses in the speech stream)\n",
    "    6. Parses the text using the nlp model \"de_cores_news_sm\"\n",
    "    7. Counts the number of morphemes in the continuous speech\n",
    "    8. Counts the number of utterances (speech between pauses)\n",
    "    9. Computes the mean length utterance = morphemes/utterances\n",
    "    10. Returns strings of the participant number and condition and the mean length utterance in a list\n",
    "    \"\"\"\n",
    "    info = file.split('_',2)\n",
    "    tg = textgrid.openTextgrid(file, includeEmptyIntervals=False)\n",
    "    participant_tier = tg.getTier('Participant')\n",
    "    labelList = [entry.label for entry in participant_tier.entries]\n",
    "    text = ' '.join(labelList)\n",
    "    remove = ['xxx', 'na']\n",
    "    text_new = [word for word in text.split() if word.lower() not in remove]\n",
    "    new_text = \" \".join(text_new)\n",
    "    doc = nlp(new_text)\n",
    "    morphs = len([token.morph for token in doc]) # check to make sure this is counting morphemes correctly!\n",
    "    matcher = Matcher(nlp.vocab)\n",
    "    pattern = [{\"LOWER\": \"na\", \"OP\": \"*\"}, {\"LOWER\": \"xxx\", \"OP\": \"*\"}]\n",
    "    matcher.add(\"UTTERANCE_BOUNDARIES\", [pattern])\n",
    "    doc2 = nlp(text)\n",
    "    matches = matcher(doc2)\n",
    "    utterances = len(matches)-1\n",
    "    MLU = round(morphs/utterances,2)\n",
    "    return [info[0], info[1], MLU]"
   ]
  },
  {
   "cell_type": "code",
   "execution_count": 9,
   "id": "08905793-c33d-4fbd-b04b-8a4f5ac7648e",
   "metadata": {},
   "outputs": [],
   "source": [
    "MLU_all = map(compute_mlu, tg_files)"
   ]
  },
  {
   "cell_type": "code",
   "execution_count": 10,
   "id": "de98f7fd-bea9-4de3-af67-f9f359b1067a",
   "metadata": {},
   "outputs": [],
   "source": [
    "data = list(MLU_all)\n",
    "df = pd.DataFrame(data, columns = ['Participant', 'Condition', 'MLU']) "
   ]
  },
  {
   "cell_type": "code",
   "execution_count": 11,
   "id": "d198691d-7603-444a-aa8b-a4ebe737958c",
   "metadata": {},
   "outputs": [
    {
     "data": {
      "text/html": [
       "<div>\n",
       "<style scoped>\n",
       "    .dataframe tbody tr th:only-of-type {\n",
       "        vertical-align: middle;\n",
       "    }\n",
       "\n",
       "    .dataframe tbody tr th {\n",
       "        vertical-align: top;\n",
       "    }\n",
       "\n",
       "    .dataframe thead th {\n",
       "        text-align: right;\n",
       "    }\n",
       "</style>\n",
       "<table border=\"1\" class=\"dataframe\">\n",
       "  <thead>\n",
       "    <tr style=\"text-align: right;\">\n",
       "      <th></th>\n",
       "      <th>Participant</th>\n",
       "      <th>Condition</th>\n",
       "      <th>MLU</th>\n",
       "    </tr>\n",
       "  </thead>\n",
       "  <tbody>\n",
       "    <tr>\n",
       "      <th>0</th>\n",
       "      <td>102</td>\n",
       "      <td>speakingonly</td>\n",
       "      <td>6.98</td>\n",
       "    </tr>\n",
       "    <tr>\n",
       "      <th>1</th>\n",
       "      <td>112</td>\n",
       "      <td>speakingonly</td>\n",
       "      <td>5.21</td>\n",
       "    </tr>\n",
       "    <tr>\n",
       "      <th>2</th>\n",
       "      <td>113</td>\n",
       "      <td>easy</td>\n",
       "      <td>5.59</td>\n",
       "    </tr>\n",
       "    <tr>\n",
       "      <th>3</th>\n",
       "      <td>102</td>\n",
       "      <td>hard</td>\n",
       "      <td>7.33</td>\n",
       "    </tr>\n",
       "    <tr>\n",
       "      <th>4</th>\n",
       "      <td>112</td>\n",
       "      <td>hard</td>\n",
       "      <td>4.44</td>\n",
       "    </tr>\n",
       "  </tbody>\n",
       "</table>\n",
       "</div>"
      ],
      "text/plain": [
       "  Participant     Condition   MLU\n",
       "0         102  speakingonly  6.98\n",
       "1         112  speakingonly  5.21\n",
       "2         113          easy  5.59\n",
       "3         102          hard  7.33\n",
       "4         112          hard  4.44"
      ]
     },
     "execution_count": 11,
     "metadata": {},
     "output_type": "execute_result"
    }
   ],
   "source": [
    "df.head()"
   ]
  },
  {
   "cell_type": "code",
   "execution_count": 12,
   "id": "30ae6c20-9565-46c3-a6d5-35e3b8fec744",
   "metadata": {},
   "outputs": [
    {
     "data": {
      "image/png": "[encoded data removed]",
      "text/plain": [
       "<Figure size 640x480 with 1 Axes>"
      ]
     },
     "metadata": {},
     "output_type": "display_data"
    }
   ],
   "source": [
    "sns.barplot(data=df, x=\"Condition\", y=\"MLU\", estimator=\"mean\", errorbar=(\"ci\", 95), hue=\"Condition\")\n",
    "sns.stripplot(data=df, x=\"Condition\", y=\"MLU\", color=\"black\", legend=False)\n",
    "plt.show()"
   ]
  },
  {
   "cell_type": "code",
   "execution_count": 13,
   "id": "1d376607-5dfd-4e42-a399-e64f8a498f71",
   "metadata": {},
   "outputs": [
    {
     "name": "stdout",
     "output_type": "stream",
     "text": [
      "[[-1. -1.]\n",
      " [ 1. -1.]\n",
      " [ 0.  2.]]\n"
     ]
    }
   ],
   "source": [
    "levels = ['easy', 'hard', 'speakingonly']\n",
    "contrast = Helmert().code_without_intercept(levels)\n",
    "print(contrast.matrix)"
   ]
  },
  {
   "cell_type": "code",
   "execution_count": 14,
   "id": "061e70ba-0bfe-47a0-8b19-8909a9ec754b",
   "metadata": {},
   "outputs": [
    {
     "name": "stdout",
     "output_type": "stream",
     "text": [
      "                            OLS Regression Results                            \n",
      "==============================================================================\n",
      "Dep. Variable:                    MLU   R-squared:                       0.047\n",
      "Model:                            OLS   Adj. R-squared:                 -0.053\n",
      "Method:                 Least Squares   F-statistic:                    0.4736\n",
      "Date:                Wed, 17 Jan 2024   Prob (F-statistic):              0.630\n",
      "Time:                        10:30:47   Log-Likelihood:                -32.554\n",
      "No. Observations:                  22   AIC:                             71.11\n",
      "Df Residuals:                      19   BIC:                             74.38\n",
      "Df Model:                           2                                         \n",
      "Covariance Type:            nonrobust                                         \n",
      "=========================================================================================================================\n",
      "                                                            coef    std err          t      P>|t|      [0.025      0.975]\n",
      "-------------------------------------------------------------------------------------------------------------------------\n",
      "Intercept                                                 6.0018      0.244     24.570      0.000       5.491       6.513\n",
      "C(Condition, contrast, levels=levels)[H.hard]             0.1166      0.296      0.394      0.698      -0.503       0.736\n",
      "C(Condition, contrast, levels=levels)[H.speakingonly]     0.1527      0.175      0.874      0.393      -0.213       0.518\n",
      "==============================================================================\n",
      "Omnibus:                        5.973   Durbin-Watson:                   2.492\n",
      "Prob(Omnibus):                  0.050   Jarque-Bera (JB):                1.709\n",
      "Skew:                           0.016   Prob(JB):                        0.426\n",
      "Kurtosis:                       1.635   Cond. No.                         1.70\n",
      "==============================================================================\n",
      "\n",
      "Notes:\n",
      "[1] Standard Errors assume that the covariance matrix of the errors is correctly specified.\n"
     ]
    }
   ],
   "source": [
    "mod = ols(formula=\"MLU ~ C(Condition, contrast, levels=levels)\", data=df)\n",
    "res = mod.fit()\n",
    "print(res.summary())"
   ]
  },
  {
   "cell_type": "code",
   "execution_count": 15,
   "id": "13fba944-1098-4bd5-8f89-5f83cffa3872",
   "metadata": {},
   "outputs": [
    {
     "data": {
      "text/plain": [
       "Condition\n",
       "easy            5.732500\n",
       "hard            5.965714\n",
       "speakingonly    6.307143\n",
       "Name: MLU, dtype: float64"
      ]
     },
     "execution_count": 15,
     "metadata": {},
     "output_type": "execute_result"
    }
   ],
   "source": [
    "# See this page for interpreting output/getting condition means with Helmert contrasts: https://www.statsmodels.org/dev/contrasts.html\n",
    "grouped = df.groupby('Condition')\n",
    "grouped['MLU'].mean()\n",
    "#cond_means = df.groupby(\"Condition\")[\"MLU\"].mean()\n",
    "#cond_means[1] - cond_means[0]\n",
    "#k = 3\n",
    "#1./k * (cond_means[2] - ((cond_means[1]+cond_means[0])/2))\n",
    "#1./k * (cond_means[1] - cond_means[0])"
   ]
  },
  {
   "cell_type": "code",
   "execution_count": 16,
   "id": "a09335e4-0bfc-444a-bf1c-026bc2808750",
   "metadata": {},
   "outputs": [
    {
     "name": "stdout",
     "output_type": "stream",
     "text": [
      "[[-1. -1.]\n",
      " [ 1. -1.]\n",
      " [ 0.  2.]]\n"
     ]
    }
   ],
   "source": [
    "# Try with treatment contrasts to see if either driving condition differs from the speaking only condition\n",
    "levels = ['easy', 'hard', 'speakingonly']\n",
    "contrast_treat = Treatment(reference=2).code_without_intercept(levels)\n",
    "print(contrast.matrix)"
   ]
  },
  {
   "cell_type": "code",
   "execution_count": 17,
   "id": "c00ebbcd-e090-41b8-8ecb-1c7377d16963",
   "metadata": {},
   "outputs": [
    {
     "name": "stdout",
     "output_type": "stream",
     "text": [
      "                            OLS Regression Results                            \n",
      "==============================================================================\n",
      "Dep. Variable:                    MLU   R-squared:                       0.047\n",
      "Model:                            OLS   Adj. R-squared:                 -0.053\n",
      "Method:                 Least Squares   F-statistic:                    0.4736\n",
      "Date:                Wed, 17 Jan 2024   Prob (F-statistic):              0.630\n",
      "Time:                        10:30:47   Log-Likelihood:                -32.554\n",
      "No. Observations:                  22   AIC:                             71.11\n",
      "Df Residuals:                      19   BIC:                             74.38\n",
      "Df Model:                           2                                         \n",
      "Covariance Type:            nonrobust                                         \n",
      "=======================================================================================================================\n",
      "                                                          coef    std err          t      P>|t|      [0.025      0.975]\n",
      "-----------------------------------------------------------------------------------------------------------------------\n",
      "Intercept                                               6.3071      0.432     14.593      0.000       5.403       7.212\n",
      "C(Condition, contrast_treat, levels=levels)[T.easy]    -0.5746      0.592     -0.971      0.344      -1.813       0.664\n",
      "C(Condition, contrast_treat, levels=levels)[T.hard]    -0.3414      0.611     -0.559      0.583      -1.621       0.938\n",
      "==============================================================================\n",
      "Omnibus:                        5.973   Durbin-Watson:                   2.492\n",
      "Prob(Omnibus):                  0.050   Jarque-Bera (JB):                1.709\n",
      "Skew:                           0.016   Prob(JB):                        0.426\n",
      "Kurtosis:                       1.635   Cond. No.                         3.81\n",
      "==============================================================================\n",
      "\n",
      "Notes:\n",
      "[1] Standard Errors assume that the covariance matrix of the errors is correctly specified.\n"
     ]
    }
   ],
   "source": [
    "mod_treat = ols(formula=\"MLU ~ C(Condition, contrast_treat, levels=levels)\", data=df)\n",
    "res_treat = mod_treat.fit()\n",
    "print(res_treat.summary())"
   ]
  },
  {
   "cell_type": "markdown",
   "id": "819c245e-de17-47f9-b5b8-5bf643e44f6f",
   "metadata": {},
   "source": [
    "## Filled pauses"
   ]
  },
  {
   "cell_type": "code",
   "execution_count": 18,
   "id": "44b27838-cb68-423d-8fe2-2b2c3c9de988",
   "metadata": {},
   "outputs": [],
   "source": [
    "def count_filled_pauses(file):\n",
    "    \"\"\"\n",
    "    This function counts the number of filled pauses (äh/ähm) in the speech task for each participant and condition with the following steps:\n",
    "    1. Splits the string of the file name and saves the first two elements, which are the participant number and condition\n",
    "    2. Reads the textgrid file\n",
    "    3. Creates an object that consists of the participant tier of the textgrid (the text the participant uttered)\n",
    "    4. Creates a list of all text from the participant's speech task\n",
    "    5. Finds instances of 'äh' or 'ähm' and counts them\n",
    "    6. Returns strings of the participant number and condition and the number of filled pauses saved in a list\n",
    "    \"\"\"\n",
    "    info = file.split('_',2)\n",
    "    tg = textgrid.openTextgrid(file, includeEmptyIntervals=False)\n",
    "    participant_tier = tg.getTier('Participant')\n",
    "    labelList = [entry.label for entry in participant_tier.entries]\n",
    "    text = ' '.join(labelList)\n",
    "    matcher = Matcher(nlp.vocab)\n",
    "    pattern = [{\"LOWER\": \"äh\", \"OP\": \"*\"}, \n",
    "               {\"LOWER\": \"ähm\", \"OP\": \"*\"}, \n",
    "               {\"LOWER\": \"hm\", \"OP\": \"*\"}, \n",
    "               {\"LOWER\": \"mm\", \"OP\": \"*\"},\n",
    "              {\"LOWER\": \"uff\", \"OP\": \"*\"}]\n",
    "    matcher.add(\"FILLED_PAUSES\", [pattern])\n",
    "    doc = nlp(text)\n",
    "    matches = matcher(doc)\n",
    "    FP = len(matches)\n",
    "    return [info[0], info[1], FP]"
   ]
  },
  {
   "cell_type": "code",
   "execution_count": 19,
   "id": "d3f69351-871a-4d72-91c2-ed07837e8d27",
   "metadata": {},
   "outputs": [],
   "source": [
    "FP_all = map(count_filled_pauses, tg_files)"
   ]
  },
  {
   "cell_type": "code",
   "execution_count": 20,
   "id": "753c09c9-6d71-4977-8124-30df23b8a559",
   "metadata": {},
   "outputs": [],
   "source": [
    "data_fp = list(FP_all)\n",
    "df_fp = pd.DataFrame(data_fp, columns = ['Participant', 'Condition', 'Number_filled_pauses']) "
   ]
  },
  {
   "cell_type": "code",
   "execution_count": 21,
   "id": "fa675158-4d64-4acd-9642-a5a2ef0ffaff",
   "metadata": {},
   "outputs": [
    {
     "data": {
      "text/html": [
       "<div>\n",
       "<style scoped>\n",
       "    .dataframe tbody tr th:only-of-type {\n",
       "        vertical-align: middle;\n",
       "    }\n",
       "\n",
       "    .dataframe tbody tr th {\n",
       "        vertical-align: top;\n",
       "    }\n",
       "\n",
       "    .dataframe thead th {\n",
       "        text-align: right;\n",
       "    }\n",
       "</style>\n",
       "<table border=\"1\" class=\"dataframe\">\n",
       "  <thead>\n",
       "    <tr style=\"text-align: right;\">\n",
       "      <th></th>\n",
       "      <th>Participant</th>\n",
       "      <th>Condition</th>\n",
       "      <th>Number_filled_pauses</th>\n",
       "    </tr>\n",
       "  </thead>\n",
       "  <tbody>\n",
       "    <tr>\n",
       "      <th>19</th>\n",
       "      <td>101</td>\n",
       "      <td>easy</td>\n",
       "      <td>60</td>\n",
       "    </tr>\n",
       "    <tr>\n",
       "      <th>14</th>\n",
       "      <td>101</td>\n",
       "      <td>speakingonly</td>\n",
       "      <td>66</td>\n",
       "    </tr>\n",
       "    <tr>\n",
       "      <th>0</th>\n",
       "      <td>102</td>\n",
       "      <td>speakingonly</td>\n",
       "      <td>7</td>\n",
       "    </tr>\n",
       "    <tr>\n",
       "      <th>3</th>\n",
       "      <td>102</td>\n",
       "      <td>hard</td>\n",
       "      <td>12</td>\n",
       "    </tr>\n",
       "    <tr>\n",
       "      <th>12</th>\n",
       "      <td>102</td>\n",
       "      <td>easy</td>\n",
       "      <td>18</td>\n",
       "    </tr>\n",
       "  </tbody>\n",
       "</table>\n",
       "</div>"
      ],
      "text/plain": [
       "   Participant     Condition  Number_filled_pauses\n",
       "19         101          easy                    60\n",
       "14         101  speakingonly                    66\n",
       "0          102  speakingonly                     7\n",
       "3          102          hard                    12\n",
       "12         102          easy                    18"
      ]
     },
     "execution_count": 21,
     "metadata": {},
     "output_type": "execute_result"
    }
   ],
   "source": [
    "df_fp.sort_values(by=['Participant']).head()"
   ]
  },
  {
   "cell_type": "code",
   "execution_count": 22,
   "id": "6bb860cc-87ea-4742-9789-0d0166e23c21",
   "metadata": {},
   "outputs": [
    {
     "data": {
      "image/png": "[encoded data removed]",
      "text/plain": [
       "<Figure size 640x480 with 1 Axes>"
      ]
     },
     "metadata": {},
     "output_type": "display_data"
    }
   ],
   "source": [
    "sns.barplot(data=df_fp, x=\"Condition\", y=\"Number_filled_pauses\", estimator=\"mean\", errorbar=(\"ci\", 95), hue=\"Condition\")\n",
    "sns.stripplot(data=df_fp, x=\"Condition\", y=\"Number_filled_pauses\", color=\"black\", legend=False)\n",
    "plt.show()"
   ]
  },
  {
   "cell_type": "code",
   "execution_count": 23,
   "id": "5458b304-b04f-468a-863d-247b298fc449",
   "metadata": {},
   "outputs": [
    {
     "name": "stdout",
     "output_type": "stream",
     "text": [
      "                             OLS Regression Results                             \n",
      "================================================================================\n",
      "Dep. Variable:     Number_filled_pauses   R-squared:                       0.035\n",
      "Model:                              OLS   Adj. R-squared:                 -0.066\n",
      "Method:                   Least Squares   F-statistic:                    0.3468\n",
      "Date:                  Wed, 17 Jan 2024   Prob (F-statistic):              0.711\n",
      "Time:                          10:30:58   Log-Likelihood:                -94.634\n",
      "No. Observations:                    22   AIC:                             195.3\n",
      "Df Residuals:                        19   BIC:                             198.5\n",
      "Df Model:                             2                                         \n",
      "Covariance Type:              nonrobust                                         \n",
      "=========================================================================================================================\n",
      "                                                            coef    std err          t      P>|t|      [0.025      0.975]\n",
      "-------------------------------------------------------------------------------------------------------------------------\n",
      "Intercept                                                50.0774      4.106     12.197      0.000      41.484      58.671\n",
      "C(Condition, contrast, levels=levels)[H.hard]            -4.1161      4.973     -0.828      0.418     -14.526       6.293\n",
      "C(Condition, contrast, levels=levels)[H.speakingonly]    -0.1815      2.935     -0.062      0.951      -6.324       5.960\n",
      "==============================================================================\n",
      "Omnibus:                        5.446   Durbin-Watson:                   2.205\n",
      "Prob(Omnibus):                  0.066   Jarque-Bera (JB):                3.784\n",
      "Skew:                          -1.003   Prob(JB):                        0.151\n",
      "Kurtosis:                       3.319   Cond. No.                         1.70\n",
      "==============================================================================\n",
      "\n",
      "Notes:\n",
      "[1] Standard Errors assume that the covariance matrix of the errors is correctly specified.\n"
     ]
    }
   ],
   "source": [
    "mod = ols(formula=\"Number_filled_pauses ~ C(Condition, contrast, levels=levels)\", data=df_fp)\n",
    "res = mod.fit()\n",
    "print(res.summary())"
   ]
  },
  {
   "cell_type": "code",
   "execution_count": 24,
   "id": "071ac5e0-023a-4c92-afb5-23a131a8c794",
   "metadata": {},
   "outputs": [
    {
     "name": "stdout",
     "output_type": "stream",
     "text": [
      "                             OLS Regression Results                             \n",
      "================================================================================\n",
      "Dep. Variable:     Number_filled_pauses   R-squared:                       0.035\n",
      "Model:                              OLS   Adj. R-squared:                 -0.066\n",
      "Method:                   Least Squares   F-statistic:                    0.3468\n",
      "Date:                  Wed, 17 Jan 2024   Prob (F-statistic):              0.711\n",
      "Time:                          10:30:58   Log-Likelihood:                -94.634\n",
      "No. Observations:                    22   AIC:                             195.3\n",
      "Df Residuals:                        19   BIC:                             198.5\n",
      "Df Model:                             2                                         \n",
      "Covariance Type:              nonrobust                                         \n",
      "=======================================================================================================================\n",
      "                                                          coef    std err          t      P>|t|      [0.025      0.975]\n",
      "-----------------------------------------------------------------------------------------------------------------------\n",
      "Intercept                                              49.7143      7.264      6.844      0.000      34.510      64.918\n",
      "C(Condition, contrast_treat, levels=levels)[T.easy]     4.6607      9.947      0.469      0.645     -16.158      25.480\n",
      "C(Condition, contrast_treat, levels=levels)[T.hard]    -3.5714     10.273     -0.348      0.732     -25.073      17.930\n",
      "==============================================================================\n",
      "Omnibus:                        5.446   Durbin-Watson:                   2.205\n",
      "Prob(Omnibus):                  0.066   Jarque-Bera (JB):                3.784\n",
      "Skew:                          -1.003   Prob(JB):                        0.151\n",
      "Kurtosis:                       3.319   Cond. No.                         3.81\n",
      "==============================================================================\n",
      "\n",
      "Notes:\n",
      "[1] Standard Errors assume that the covariance matrix of the errors is correctly specified.\n"
     ]
    }
   ],
   "source": [
    "mod_treat = ols(formula=\"Number_filled_pauses ~ C(Condition, contrast_treat, levels=levels)\", data=df_fp)\n",
    "res_treat = mod_treat.fit()\n",
    "print(res_treat.summary())"
   ]
  },
  {
   "cell_type": "markdown",
   "id": "cb63f74e-9f39-4c5c-9bee-f3e2750387ac",
   "metadata": {},
   "source": [
    "# Syllables"
   ]
  },
  {
   "cell_type": "markdown",
   "id": "2da18b3b-600a-4985-a012-77aa869ef0bf",
   "metadata": {},
   "source": [
    "In this section, we will try to count the number of syllables per second (speech rate) in a quick way. Unfortunately the syllable counter was not accurate enough (counted only one syllable for 'oder' and 'aber'), so we cannot use it. We will either try to train and update the model or do this manually."
   ]
  },
  {
   "cell_type": "code",
   "execution_count": 25,
   "id": "f05de3b8-070a-4fa8-aad7-009fd1589b01",
   "metadata": {},
   "outputs": [],
   "source": [
    "def count_syllables(file):\n",
    "    \"\"\"\n",
    "    This function counts the number of syllables in the speech task for each participant and condition with the following steps:\n",
    "    1. Splits the string of the file name and saves the first two elements, which are the participant number and condition\n",
    "    2. Reads the textgrid file\n",
    "    3. Creates an object that consists of the participant tier of the textgrid (the text the participant uttered)\n",
    "    4. Creates a list of all text from the participant's speech task\n",
    "    5. Removes NA and xxx (NA is when the experimenter was talking; xxx are pauses in the speech stream)\n",
    "    6. Parses the text using the nlp model \"de_cores_news_sm\"\n",
    "    7. Counts the number of syllables for each word\n",
    "    8. Returns the participant number, condition, and number of syllables in a list\n",
    "    \"\"\"\n",
    "    info = file.split('_',2)\n",
    "    tg = textgrid.openTextgrid(file, includeEmptyIntervals=False)\n",
    "    participant_tier = tg.getTier('Participant')\n",
    "    labelList = [entry.label for entry in participant_tier.entries]\n",
    "    text = ' '.join(labelList)\n",
    "    remove = ['xxx', 'na', 'prag', '']\n",
    "    text_new = [word for word in text.split() if word.lower() not in remove]\n",
    "    new_text = \" \".join(text_new)\n",
    "    doc = nlp(new_text)\n",
    "    data = [(token.text, token._.syllables_count) for token in doc]\n",
    "    data_df = pd.DataFrame(data, columns = ['word', 'nr_syllables'])\n",
    "    syllables = data_df['nr_syllables'].sum()\n",
    "    duration_list = []\n",
    "    for start, stop, _ in participant_tier.entries:\n",
    "        duration_list.append(stop - start)\n",
    "    total_time = sum(duration_list)\n",
    "    speaking_rate = syllables/total_time\n",
    "    return [info[0], info[1], syllables, total_time, speaking_rate]"
   ]
  },
  {
   "cell_type": "code",
   "execution_count": 26,
   "id": "7a942f94-6981-4d21-9e0b-2d48484c7254",
   "metadata": {},
   "outputs": [],
   "source": [
    "syllables = map(count_syllables, tg_files)"
   ]
  },
  {
   "cell_type": "code",
   "execution_count": 27,
   "id": "be8b340f-13d2-41c8-95b6-15cffafb464f",
   "metadata": {},
   "outputs": [],
   "source": [
    "data_syl = list(syllables)\n",
    "df_syl = pd.DataFrame(data_syl, columns = ['participant', 'condition', 'syllables', 'total_time', 'speaking_rate']) "
   ]
  },
  {
   "cell_type": "code",
   "execution_count": 28,
   "id": "81c292b3-dc97-42a4-9421-b5d5f6fe065e",
   "metadata": {},
   "outputs": [
    {
     "data": {
      "text/html": [
       "<div>\n",
       "<style scoped>\n",
       "    .dataframe tbody tr th:only-of-type {\n",
       "        vertical-align: middle;\n",
       "    }\n",
       "\n",
       "    .dataframe tbody tr th {\n",
       "        vertical-align: top;\n",
       "    }\n",
       "\n",
       "    .dataframe thead th {\n",
       "        text-align: right;\n",
       "    }\n",
       "</style>\n",
       "<table border=\"1\" class=\"dataframe\">\n",
       "  <thead>\n",
       "    <tr style=\"text-align: right;\">\n",
       "      <th></th>\n",
       "      <th>participant</th>\n",
       "      <th>condition</th>\n",
       "      <th>syllables</th>\n",
       "      <th>total_time</th>\n",
       "      <th>speaking_rate</th>\n",
       "    </tr>\n",
       "  </thead>\n",
       "  <tbody>\n",
       "    <tr>\n",
       "      <th>19</th>\n",
       "      <td>101</td>\n",
       "      <td>easy</td>\n",
       "      <td>1467.0</td>\n",
       "      <td>511.110000</td>\n",
       "      <td>2.870224</td>\n",
       "    </tr>\n",
       "    <tr>\n",
       "      <th>14</th>\n",
       "      <td>101</td>\n",
       "      <td>speakingonly</td>\n",
       "      <td>1570.0</td>\n",
       "      <td>439.960000</td>\n",
       "      <td>3.568506</td>\n",
       "    </tr>\n",
       "    <tr>\n",
       "      <th>0</th>\n",
       "      <td>102</td>\n",
       "      <td>speakingonly</td>\n",
       "      <td>1302.0</td>\n",
       "      <td>475.000000</td>\n",
       "      <td>2.741053</td>\n",
       "    </tr>\n",
       "    <tr>\n",
       "      <th>3</th>\n",
       "      <td>102</td>\n",
       "      <td>hard</td>\n",
       "      <td>1276.0</td>\n",
       "      <td>485.000000</td>\n",
       "      <td>2.630928</td>\n",
       "    </tr>\n",
       "    <tr>\n",
       "      <th>12</th>\n",
       "      <td>102</td>\n",
       "      <td>easy</td>\n",
       "      <td>1159.0</td>\n",
       "      <td>542.545102</td>\n",
       "      <td>2.136228</td>\n",
       "    </tr>\n",
       "  </tbody>\n",
       "</table>\n",
       "</div>"
      ],
      "text/plain": [
       "   participant     condition  syllables  total_time  speaking_rate\n",
       "19         101          easy     1467.0  511.110000       2.870224\n",
       "14         101  speakingonly     1570.0  439.960000       3.568506\n",
       "0          102  speakingonly     1302.0  475.000000       2.741053\n",
       "3          102          hard     1276.0  485.000000       2.630928\n",
       "12         102          easy     1159.0  542.545102       2.136228"
      ]
     },
     "execution_count": 28,
     "metadata": {},
     "output_type": "execute_result"
    }
   ],
   "source": [
    "df_syl.sort_values(by=['participant']).head()"
   ]
  }
 ],
 "metadata": {
  "kernelspec": {
   "display_name": "Python 3 (ipykernel)",
   "language": "python",
   "name": "python3"
  },
  "language_info": {
   "codemirror_mode": {
    "name": "ipython",
    "version": 3
   },
   "file_extension": ".py",
   "mimetype": "text/x-python",
   "name": "python",
   "nbconvert_exporter": "python",
   "pygments_lexer": "ipython3",
   "version": "3.9.10"
  }
 },
 "nbformat": 4,
 "nbformat_minor": 5
}
